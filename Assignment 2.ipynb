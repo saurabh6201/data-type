{
 "cells": [
  {
   "cell_type": "raw",
   "id": "9cb6cedb-65de-4fda-9b64-0261cc836b8d",
   "metadata": {},
   "source": [
    "                                "
   ]
  },
  {
   "cell_type": "markdown",
   "id": "784ad72b-3aca-4458-91c0-5a2225c01cfa",
   "metadata": {},
   "source": [
    "                                                THEORYTICAL QUESTIONS"
   ]
  },
  {
   "cell_type": "code",
   "execution_count": 3,
   "id": "8240a8fd-efbb-4375-97e2-9f04bd0afab2",
   "metadata": {},
   "outputs": [],
   "source": [
    "#Q.1>> What are data structures, and why are they important?\n",
    "# ans>>  Data structures are ways of organizing, storing, and managing data in a computer so that it can be accessed and modified efficiently\n",
    "#        data structure important for doing a task with more efficiently ,perform oparetation more quickly\n",
    "#        data structures are essential because they make programs more efficient, flexible,\n",
    "#        and scalable by optimizing operations on data and ensuring effective memory usage. "
   ]
  },
  {
   "cell_type": "code",
   "execution_count": 5,
   "id": "5ddb08e4-ccdb-4109-bdd2-1177547f13fd",
   "metadata": {},
   "outputs": [],
   "source": [
    "#Q.2>> Explain the difference between mutable and immutable data types with examples.\n",
    "#ans>>   in mutable datatype we can modify,replace,its data according to use,ex:when we made our identity card we can change our address,\n",
    "#        contact number but when we need a biometric card we use immutable datatypes for never changing our fingerprints,eye retina\n",
    "#        because immutable datatype cant modify or replace with other data"
   ]
  },
  {
   "cell_type": "code",
   "execution_count": 7,
   "id": "73a6d42a-f9ab-4fc0-b590-68e1b51fa80a",
   "metadata": {},
   "outputs": [],
   "source": [
    "#Q.3>>What are the main differences between lists and tuples in Python?\n",
    "#ans>>  main difference between list and tuple is mutability, we can change/modify replace in list according to use but we can't do in tuples\n",
    "        "
   ]
  },
  {
   "cell_type": "code",
   "execution_count": 9,
   "id": "80c5f3c6-6eb2-41df-be33-6975c1cfbac8",
   "metadata": {},
   "outputs": [],
   "source": [
    "#Q.4>> Describe how dictionaries store data.\n",
    "#ans>> in dictionaries data stored in pair of key and value"
   ]
  },
  {
   "cell_type": "code",
   "execution_count": 11,
   "id": "e08abeaa-6b47-4812-ba71-55d36c7a0584",
   "metadata": {},
   "outputs": [],
   "source": [
    "#Q.5>> Why might you use a set instead of a list in Python?\n",
    "#ans>>   set gives us unique result it dosent allow duplicate element ,that's why we set instead of a list"
   ]
  },
  {
   "cell_type": "code",
   "execution_count": null,
   "id": "ec26a585-63a2-4383-b03e-3d181f9df292",
   "metadata": {},
   "outputs": [],
   "source": [
    "#Q.6>> What is a string in Python, and how is it different from a list?\n",
    "#ans.>> string is a sequence of character and manipulate textual data,string is different from list because in string is immutable datatypes\n",
    "#       string can store only sequence of character but list can store every datatypes"
   ]
  },
  {
   "cell_type": "code",
   "execution_count": null,
   "id": "2646f82e-231c-4cb0-9bf2-62d15354a816",
   "metadata": {},
   "outputs": [],
   "source": [
    "#Q.7>> How do tuples ensure data integrity in Python?\n",
    "#ans.>> In Python, tuples ensure data integrity because they are immutable."
   ]
  },
  {
   "cell_type": "code",
   "execution_count": 103,
   "id": "b5941fbd-63f6-45a9-bf79-cf5699460e76",
   "metadata": {},
   "outputs": [],
   "source": [
    "#Q.8>> What is a hash table, and how does it relate to dictionaries in Python?\n",
    "#ans.>> has table means a immutable datatypes and in dictionaries store data in paire of key and value ,and its key is a immutable data support\n",
    "#       here we use has table"
   ]
  },
  {
   "cell_type": "code",
   "execution_count": 105,
   "id": "d321d4d8-3737-4c6c-bf42-4f29f216b061",
   "metadata": {},
   "outputs": [],
   "source": [
    "#Q.9>>  Can lists contain different data types in Python?\n",
    "#ans.>> yes list cantain different/every datatypes so,list called a hetroginus"
   ]
  },
  {
   "cell_type": "code",
   "execution_count": null,
   "id": "001ab681-f190-4cc7-b3de-694c35e934b2",
   "metadata": {},
   "outputs": [],
   "source": [
    "#Q.10>> Explain why strings are immutable in Python?\n",
    "#ans.>>Strings are immutable in Python to improve memory efficiency, ensure data integrity,\n",
    "#       allow optimizations, and provide more predictable and secure behavior in programs. "
   ]
  },
  {
   "cell_type": "code",
   "execution_count": null,
   "id": "92fafd01-c767-4698-b7e8-a8b2392b7afe",
   "metadata": {},
   "outputs": [],
   "source": [
    "#Q13  How do sets handle duplicate values in Python?\n",
    "#ans.>> in set duplicate values are skiped"
   ]
  },
  {
   "cell_type": "code",
   "execution_count": null,
   "id": "ec149d07-cc1a-4167-8813-6ec2edfbf791",
   "metadata": {},
   "outputs": [],
   "source": []
  },
  {
   "cell_type": "code",
   "execution_count": null,
   "id": "da0a3b9c-5c57-4c76-8ed7-0ed53d38d7f7",
   "metadata": {},
   "outputs": [],
   "source": []
  },
  {
   "cell_type": "code",
   "execution_count": null,
   "id": "733b7c92-bcae-41de-978f-2547030a58b4",
   "metadata": {},
   "outputs": [],
   "source": []
  },
  {
   "cell_type": "markdown",
   "id": "87df1dd9-b51c-4f4a-9062-57cbdd17eddd",
   "metadata": {},
   "source": [
    "                                                PRACTICAL QESTIONS"
   ]
  },
  {
   "cell_type": "code",
   "execution_count": 15,
   "id": "af7786b4-9773-47b7-af24-38aa481774b4",
   "metadata": {},
   "outputs": [
    {
     "name": "stdout",
     "output_type": "stream",
     "text": [
      "saurabh kumar\n"
     ]
    }
   ],
   "source": [
    "#Q1.> Write a code to create a string with your name and print it.\n",
    "a=\"saurabh kumar\"\n",
    "print(a)"
   ]
  },
  {
   "cell_type": "code",
   "execution_count": 17,
   "id": "2aa73b59-f65e-4be7-bc41-53999973f394",
   "metadata": {},
   "outputs": [
    {
     "name": "stdout",
     "output_type": "stream",
     "text": [
      "the length of Hello World is 11\n"
     ]
    }
   ],
   "source": [
    "#Q2.> Write a code to find the length of the string \"Hello World\".\n",
    "b=\"Hello World\"\n",
    "print(\"the length of\",b,\"is\",len(b))"
   ]
  },
  {
   "cell_type": "code",
   "execution_count": 19,
   "id": "9142e267-6043-4b71-bcb6-12480c26e5be",
   "metadata": {},
   "outputs": [
    {
     "name": "stdout",
     "output_type": "stream",
     "text": [
      "pyt\n"
     ]
    }
   ],
   "source": [
    "#Q3.> Write a code to slice the first 3 characters from the string \"Python Programming\".\n",
    "c=\"python programing\"\n",
    "print(c[:3])"
   ]
  },
  {
   "cell_type": "code",
   "execution_count": 25,
   "id": "f2c2e84a-0474-4c72-be61-552ba8cb824d",
   "metadata": {},
   "outputs": [
    {
     "name": "stdout",
     "output_type": "stream",
     "text": [
      "HELLO\n"
     ]
    }
   ],
   "source": [
    "#Q4.> Write a code to convert the string \"hello\" to uppercase.\n",
    "d=\"hello\"\n",
    "print(d.upper())\n"
   ]
  },
  {
   "cell_type": "code",
   "execution_count": 29,
   "id": "38b6312b-41dd-4a68-ac17-8e9738b632d7",
   "metadata": {},
   "outputs": [
    {
     "data": {
      "text/plain": [
       "'i like orange'"
      ]
     },
     "execution_count": 29,
     "metadata": {},
     "output_type": "execute_result"
    }
   ],
   "source": [
    "#Q5.> Write a code to replace the word \"apple\" with \"orange\" in the string \"I like apple\".\n",
    "e=\"i like apple\"\n",
    "e.replace(\"apple\",\"orange\")"
   ]
  },
  {
   "cell_type": "code",
   "execution_count": 43,
   "id": "a9f12479-bbda-4bdf-a67b-b7ea0d3641c5",
   "metadata": {},
   "outputs": [
    {
     "name": "stdout",
     "output_type": "stream",
     "text": [
      "[1, 2, 3, 4, 5]\n"
     ]
    }
   ],
   "source": [
    "#Q6.> Write a code to create a list with numbers 1 to 5 and print it.\n",
    "f=[1,2,3,4,5]\n",
    "print(f)"
   ]
  },
  {
   "cell_type": "code",
   "execution_count": 47,
   "id": "94c008e1-89f9-4f2a-b9a1-9c612ef6e362",
   "metadata": {},
   "outputs": [
    {
     "name": "stdout",
     "output_type": "stream",
     "text": [
      "[1, 2, 3, 4, 10]\n"
     ]
    }
   ],
   "source": [
    "#Q7.> Write a code to append the number 10 to the list [1, 2, 3, 4].\n",
    "g=[1,2,3,4]\n",
    "g.append(10)\n",
    "print(g)"
   ]
  },
  {
   "cell_type": "code",
   "execution_count": 51,
   "id": "5d137df0-5ee4-480e-bb4e-60a4429dd29b",
   "metadata": {},
   "outputs": [
    {
     "name": "stdout",
     "output_type": "stream",
     "text": [
      "[1, 2, 4, 5]\n"
     ]
    }
   ],
   "source": [
    "#Q8.> Write a code to remove the number 3 from the list [1, 2, 3, 4, 5].\n",
    "h=[1,2,3,4,5]\n",
    "h.remove(3)\n",
    "print(h)"
   ]
  },
  {
   "cell_type": "code",
   "execution_count": 53,
   "id": "e0cd55de-1030-4440-9c70-8bc6d887e9f6",
   "metadata": {},
   "outputs": [
    {
     "name": "stdout",
     "output_type": "stream",
     "text": [
      "b\n"
     ]
    }
   ],
   "source": [
    "#Q9.> Write a code to access the second element in the list ['a', 'b', 'c', 'd'].\n",
    "i=['a','b','c','d']\n",
    "print(i[1])"
   ]
  },
  {
   "cell_type": "code",
   "execution_count": 55,
   "id": "45111cfa-349d-4d68-ae62-5788db6fa965",
   "metadata": {},
   "outputs": [
    {
     "name": "stdout",
     "output_type": "stream",
     "text": [
      "[50, 40, 30, 20, 10]\n"
     ]
    }
   ],
   "source": [
    "#Q10.> Write a code to reverse the list [10, 20, 30, 40, 50]\n",
    "lis=[10,20,30,40,50]\n",
    "print(lis[::-1])"
   ]
  },
  {
   "cell_type": "code",
   "execution_count": 57,
   "id": "d31b1c44-6ef4-4c5b-a129-69c746ed1324",
   "metadata": {},
   "outputs": [
    {
     "name": "stdout",
     "output_type": "stream",
     "text": [
      "(10, 20, 30) <class 'tuple'>\n"
     ]
    }
   ],
   "source": [
    "#Q11.>. Write a code to create a tuple with the elements 10, 20, 30 and print it.\n",
    "tupl=(10,20,30)\n",
    "print(tupl,type(tupl))"
   ]
  },
  {
   "cell_type": "code",
   "execution_count": 59,
   "id": "276f12da-93f4-4ef7-9c60-47f4f7a9a71d",
   "metadata": {},
   "outputs": [
    {
     "name": "stdout",
     "output_type": "stream",
     "text": [
      "apple\n"
     ]
    }
   ],
   "source": [
    "#Q12.> Write a code to access the first element of the tuple ('apple', 'banana', 'cherry').\n",
    "fruit=(\"apple\",\"banana\",\"cherry\")\n",
    "print(fruit[0])"
   ]
  },
  {
   "cell_type": "code",
   "execution_count": 63,
   "id": "96a45831-fa41-49a9-84d9-360817e40019",
   "metadata": {},
   "outputs": [
    {
     "name": "stdout",
     "output_type": "stream",
     "text": [
      "there are 2, 3 times in tup2\n"
     ]
    }
   ],
   "source": [
    "#Q13.> Write a code to count how many times the number 2 appears in the tuple (1, 2, 3, 2, 4, 2)\n",
    "tup2=(1,2,3,2,4,2)\n",
    "print (\"there are 2,\",tup2.count(2),\"times in tup2\")"
   ]
  },
  {
   "cell_type": "code",
   "execution_count": 71,
   "id": "39b18740-636d-4bff-af0d-aff0c503ecea",
   "metadata": {},
   "outputs": [
    {
     "name": "stdout",
     "output_type": "stream",
     "text": [
      "1\n"
     ]
    }
   ],
   "source": [
    "#Q14.> Write a code to find the index of the element \"cat\" in the tuple ('dog', 'cat', 'rabbit').\n",
    "tup1=('dog','cat','rabbit')\n",
    "print(tup1.index('cat') )    "
   ]
  },
  {
   "cell_type": "code",
   "execution_count": 75,
   "id": "218ca4b0-0294-4249-8134-9774bf998aea",
   "metadata": {},
   "outputs": [
    {
     "name": "stdout",
     "output_type": "stream",
     "text": [
      "yes\n"
     ]
    }
   ],
   "source": [
    "#Q15.> Write a code to check if the element \"banana\" is in the tuple ('apple', 'orange', 'banana').\n",
    "tupl2=('apple','orange','banana')\n",
    "if \"banana\" in tupl2:\n",
    "    print(\"yes\")"
   ]
  },
  {
   "cell_type": "code",
   "execution_count": 77,
   "id": "c99194f1-f592-4039-913b-e062d746ba29",
   "metadata": {},
   "outputs": [
    {
     "name": "stdout",
     "output_type": "stream",
     "text": [
      "{1, 2, 3, 4, 5}\n"
     ]
    }
   ],
   "source": [
    "#Q16.> Write a code to create a set with the elements 1, 2, 3, 4, 5 and print it.\n",
    "set1={1,2,3,4,5}\n",
    "print(set1)"
   ]
  },
  {
   "cell_type": "code",
   "execution_count": 83,
   "id": "08cf2dd4-d381-4019-8a7d-0b5fd9da7714",
   "metadata": {},
   "outputs": [
    {
     "name": "stdout",
     "output_type": "stream",
     "text": [
      "{1, 2, 3, 4, 6}\n"
     ]
    }
   ],
   "source": [
    "#Q17.> Write a code to add the element 6 to the set {1, 2, 3, 4}.\n",
    "set2={1,2,3,4}\n",
    "set2.add(6)\n",
    "print(set2)"
   ]
  },
  {
   "cell_type": "code",
   "execution_count": 85,
   "id": "f7241453-357f-4718-9a76-9cfd26611b14",
   "metadata": {},
   "outputs": [
    {
     "name": "stdout",
     "output_type": "stream",
     "text": [
      "(10, 20, 30)\n"
     ]
    }
   ],
   "source": [
    "#Q18.> Write a code to create a tuple with the elements 10, 20, 30 and print it.\n",
    "tupl3=(10,20,30)\n",
    "print(tupl3)"
   ]
  },
  {
   "cell_type": "code",
   "execution_count": 87,
   "id": "335bead0-b31e-4201-b415-f8ba48364859",
   "metadata": {},
   "outputs": [
    {
     "name": "stdout",
     "output_type": "stream",
     "text": [
      "apple\n"
     ]
    }
   ],
   "source": [
    "#Q19.>. Write a code to access the first element of the tuple ('apple', 'banana', 'cherry').\n",
    "tupl4=('apple','banana','cherry')\n",
    "print(tupl4[0])"
   ]
  },
  {
   "cell_type": "code",
   "execution_count": 93,
   "id": "dfd855dc-cd33-46f1-8527-d3250cf92fa6",
   "metadata": {},
   "outputs": [
    {
     "name": "stdout",
     "output_type": "stream",
     "text": [
      "there are 2, 3 times in tup3\n"
     ]
    }
   ],
   "source": [
    "#Q20.>  Write a code to count how many times the number 2 appears in the tuple (1, 2, 3, 2, 4, 2).\n",
    "tup3=(1,2,3,2,4,2)\n",
    "print (\"there are 2,\",tup3.count(2),\"times in tup3\")"
   ]
  },
  {
   "cell_type": "code",
   "execution_count": 95,
   "id": "7c5bfa07-27ae-4178-9699-1dc3ab9a5000",
   "metadata": {},
   "outputs": [
    {
     "name": "stdout",
     "output_type": "stream",
     "text": [
      "1\n"
     ]
    }
   ],
   "source": [
    "#Q21.>. Write a code to find the index of the element \"cat\" in the tuple ('dog', 'cat', 'rabbit').\n",
    "tup1=('dog','cat','rabbit')\n",
    "print(tup1.index('cat'))    "
   ]
  },
  {
   "cell_type": "code",
   "execution_count": 97,
   "id": "4e0e0962-3ef2-43d7-ba9f-b24aa5d75d3b",
   "metadata": {},
   "outputs": [
    {
     "name": "stdout",
     "output_type": "stream",
     "text": [
      "yes\n"
     ]
    }
   ],
   "source": [
    "#Q22.> Write a code to check if the element \"banana\" is in the tuple ('apple', 'orange', 'banana').\n",
    "tupl2=('apple','orange','banana')\n",
    "if \"banana\" in tupl2:\n",
    "    print(\"yes\")"
   ]
  },
  {
   "cell_type": "code",
   "execution_count": 99,
   "id": "eb93e1ab-5883-45b7-bf3c-1d2a4477e49a",
   "metadata": {},
   "outputs": [
    {
     "name": "stdout",
     "output_type": "stream",
     "text": [
      "{1, 2, 3, 4, 5}\n"
     ]
    }
   ],
   "source": [
    "#Q23.> Write a code to create a set with the elements 1, 2, 3, 4, 5 and print it.\n",
    "set1={1,2,3,4,5}\n",
    "print(set1)"
   ]
  },
  {
   "cell_type": "code",
   "execution_count": 101,
   "id": "dc87c45c-a815-445e-9be5-6ace06405073",
   "metadata": {},
   "outputs": [
    {
     "name": "stdout",
     "output_type": "stream",
     "text": [
      "{1, 2, 3, 4, 6}\n"
     ]
    }
   ],
   "source": [
    "#Q24.>Write a code to add the element 6 to the set {1, 2, 3, 4}.\n",
    "set2={1,2,3,4}\n",
    "set2.add(6)\n",
    "print(set2)"
   ]
  }
 ],
 "metadata": {
  "kernelspec": {
   "display_name": "Python 3 (ipykernel)",
   "language": "python",
   "name": "python3"
  },
  "language_info": {
   "codemirror_mode": {
    "name": "ipython",
    "version": 3
   },
   "file_extension": ".py",
   "mimetype": "text/x-python",
   "name": "python",
   "nbconvert_exporter": "python",
   "pygments_lexer": "ipython3",
   "version": "3.12.7"
  }
 },
 "nbformat": 4,
 "nbformat_minor": 5
}
